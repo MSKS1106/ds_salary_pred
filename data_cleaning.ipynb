{
 "cells": [
  {
   "cell_type": "code",
   "execution_count": 1,
   "id": "85c07638",
   "metadata": {},
   "outputs": [],
   "source": [
    "import pandas as pd\n",
    "\n",
    "df = pd.read_csv('DataScientist.csv')"
   ]
  },
  {
   "cell_type": "markdown",
   "id": "36487f6f",
   "metadata": {},
   "source": [
    "Salary parsing\n",
    "\n",
    "Extract company name only\n",
    "\n",
    "Age of the company\n",
    "\n",
    "Parsing of JD (python,r_studio,excel etc.)\n",
    "\n",
    "Converting to new csv file\n"
   ]
  },
  {
   "cell_type": "markdown",
   "id": "b3485edc",
   "metadata": {},
   "source": [
    "### Salary parsing"
   ]
  },
  {
   "cell_type": "code",
   "execution_count": 2,
   "id": "ab4f2c5e",
   "metadata": {},
   "outputs": [],
   "source": [
    "salary = df['Salary Estimate'].apply(lambda x:x.split('(')[0])\n",
    "remove_KD = salary.apply(lambda x:x.replace('K','').replace('$',''))\n",
    "df['Hourly'] = df['Salary Estimate'].apply(lambda x: 1 if 'Per Hour' in x else 0)\n",
    "remove_hr = remove_KD.apply(lambda x: x.replace('Per Hour',''))\n",
    "df['min_salary'] = remove_hr.apply(lambda x: int(x.split('-')[0]))\n",
    "df['max_salary'] = remove_hr.apply(lambda x: int(x.split('-')[1]))\n",
    "df['avg_salary'] = (df['min_salary'] + df['max_salary'])/2"
   ]
  },
  {
   "cell_type": "markdown",
   "id": "590447d5",
   "metadata": {},
   "source": [
    "### Extract State from location field"
   ]
  },
  {
   "cell_type": "code",
   "execution_count": 3,
   "id": "881ae891",
   "metadata": {},
   "outputs": [],
   "source": [
    "df['Job_state']= df['Location'].apply(lambda x: x.split(',')[1])\n",
    "df = df[df[\"Job_state\"].str.contains(\"United Kingdom\") == False]\n",
    "df['same_state'] = df.apply(lambda x: 1 if x.Location == x.Headquarters else 0, axis=1)"
   ]
  },
  {
   "cell_type": "markdown",
   "id": "8790ed6b",
   "metadata": {},
   "source": [
    "### Company age"
   ]
  },
  {
   "cell_type": "code",
   "execution_count": 4,
   "id": "627c045a",
   "metadata": {},
   "outputs": [],
   "source": [
    "df['age_company']= df['Founded'].apply(lambda x: x if x<1 else 2023 - x)"
   ]
  },
  {
   "cell_type": "markdown",
   "id": "31cbde04",
   "metadata": {},
   "source": [
    "### Job description (python, r studio, powerbi, tableau, tensorflow)\n"
   ]
  },
  {
   "cell_type": "code",
   "execution_count": 5,
   "id": "cb296e24",
   "metadata": {},
   "outputs": [],
   "source": [
    "#Python\n",
    "df['python'] = df['Job Description'].apply(lambda x:1 if 'python'in x.lower() else 0)\n",
    "\n",
    "#R-studio\n",
    "df['R_studio'] = df['Job Description'].apply(lambda x:1 \n",
    "                                             if 'r studio'in x.lower()\n",
    "                                             or 'r-studio'in x.lower() \n",
    "                                             or 'r_studio'in x.lower()\n",
    "                                             or 'rstudio' in x.lower()\n",
    "                                             else 0)\n",
    "\n",
    "#PowerBI\n",
    "df['powerbi'] = df['Job Description'].apply(lambda x:1 \n",
    "                                            if 'powerbi' in x.lower()\n",
    "                                            or 'power bi'in x.lower()\n",
    "                                            else 0)\n",
    "\n",
    "#Tableau\n",
    "df['tableau'] = df['Job Description'].apply(lambda x:1 if 'tableau' in x.lower() else 0)\n",
    "\n",
    "#Excel\n",
    "df['excel'] = df['Job Description'].apply(lambda x:1 if 'excel' in x.lower() else 0)"
   ]
  },
  {
   "cell_type": "markdown",
   "id": "016c0912",
   "metadata": {},
   "source": [
    "### Converting to new csv file"
   ]
  },
  {
   "cell_type": "code",
   "execution_count": 6,
   "id": "dd87f3b6",
   "metadata": {},
   "outputs": [],
   "source": [
    "df_new= df.drop(['Unnamed: 0'],axis=1)\n",
    "df= df_new.drop(['index'],axis=1)\n",
    "df.to_csv('Cleaned_DS_Salary.csv')"
   ]
  },
  {
   "cell_type": "code",
   "execution_count": null,
   "id": "aacb56b7",
   "metadata": {},
   "outputs": [],
   "source": []
  }
 ],
 "metadata": {
  "kernelspec": {
   "display_name": "Python 3 (ipykernel)",
   "language": "python",
   "name": "python3"
  },
  "language_info": {
   "codemirror_mode": {
    "name": "ipython",
    "version": 3
   },
   "file_extension": ".py",
   "mimetype": "text/x-python",
   "name": "python",
   "nbconvert_exporter": "python",
   "pygments_lexer": "ipython3",
   "version": "3.9.13"
  }
 },
 "nbformat": 4,
 "nbformat_minor": 5
}
